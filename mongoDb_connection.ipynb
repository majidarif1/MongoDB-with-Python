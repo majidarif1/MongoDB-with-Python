{
 "cells": [
  {
   "cell_type": "code",
   "execution_count": 1,
   "id": "2acedc48",
   "metadata": {},
   "outputs": [],
   "source": [
    "import pymongo"
   ]
  },
  {
   "cell_type": "code",
   "execution_count": 2,
   "id": "3fc4e9da",
   "metadata": {},
   "outputs": [],
   "source": [
    "client = pymongo.MongoClient('mongodb://127.0.0.1:27017/')"
   ]
  },
  {
   "cell_type": "code",
   "execution_count": 3,
   "id": "8672f998",
   "metadata": {},
   "outputs": [],
   "source": [
    "mydb = client['test']"
   ]
  },
  {
   "cell_type": "code",
   "execution_count": 4,
   "id": "4c3ce875",
   "metadata": {},
   "outputs": [],
   "source": [
    "information = mydb.testinformation"
   ]
  },
  {
   "cell_type": "code",
   "execution_count": 7,
   "id": "fca059c5",
   "metadata": {},
   "outputs": [],
   "source": [
    "record = [{\n",
    "    'name' : 'majid',\n",
    "    'age': 20,\n",
    "    'department' : 'engineer',\n",
    "    'city' : 'karachi'\n",
    "},{\n",
    "    'name' : 'majid1',\n",
    "    'age': 30,\n",
    "    'department' : 'engineer1',\n",
    "    'city' : 'karachi1'\n",
    "},{\n",
    "    'name' : 'majid2',\n",
    "    'age': 31,\n",
    "    'department' : 'engineer2',\n",
    "    'city' : 'karachi2'\n",
    "}]"
   ]
  },
  {
   "cell_type": "code",
   "execution_count": 9,
   "id": "b551218e",
   "metadata": {},
   "outputs": [
    {
     "data": {
      "text/plain": [
       "<pymongo.results.InsertManyResult at 0x17fa7586d00>"
      ]
     },
     "execution_count": 9,
     "metadata": {},
     "output_type": "execute_result"
    }
   ],
   "source": [
    "information.insert_many(record)"
   ]
  },
  {
   "cell_type": "code",
   "execution_count": 10,
   "id": "16069a13",
   "metadata": {},
   "outputs": [
    {
     "data": {
      "text/plain": [
       "{'_id': ObjectId('6388f6b611abe777e189b34d'),\n",
       " 'name': 'majid',\n",
       " 'age': 20,\n",
       " 'department': 'engineer',\n",
       " 'city': 'karachi'}"
      ]
     },
     "execution_count": 10,
     "metadata": {},
     "output_type": "execute_result"
    }
   ],
   "source": [
    "information.find_one()"
   ]
  },
  {
   "cell_type": "code",
   "execution_count": 13,
   "id": "09e055ca",
   "metadata": {},
   "outputs": [
    {
     "name": "stdout",
     "output_type": "stream",
     "text": [
      "{'_id': ObjectId('6388f6b611abe777e189b34d'), 'name': 'majid', 'age': 20, 'department': 'engineer', 'city': 'karachi'}\n",
      "{'_id': ObjectId('6388f91e11abe777e189b34e'), 'name': 'majid', 'age': 20, 'department': 'engineer', 'city': 'karachi'}\n",
      "{'_id': ObjectId('6388f91e11abe777e189b34f'), 'name': 'majid1', 'age': 30, 'department': 'engineer1', 'city': 'karachi1'}\n",
      "{'_id': ObjectId('6388f91e11abe777e189b350'), 'name': 'majid2', 'age': 31, 'department': 'engineer2', 'city': 'karachi2'}\n"
     ]
    }
   ],
   "source": [
    "## Select * from information\n",
    "for data in information.find():\n",
    "    print(data)"
   ]
  },
  {
   "cell_type": "code",
   "execution_count": 14,
   "id": "b998e6c9",
   "metadata": {},
   "outputs": [
    {
     "name": "stdout",
     "output_type": "stream",
     "text": [
      "{'_id': ObjectId('6388f6b611abe777e189b34d'), 'name': 'majid', 'age': 20, 'department': 'engineer', 'city': 'karachi'}\n",
      "{'_id': ObjectId('6388f91e11abe777e189b34e'), 'name': 'majid', 'age': 20, 'department': 'engineer', 'city': 'karachi'}\n"
     ]
    }
   ],
   "source": [
    "## Querying the json documents based on equality cinditions\n",
    "## select * from information where name = majid\n",
    "\n",
    "for record in information.find({'name':'majid'}):\n",
    "    print(record)"
   ]
  },
  {
   "cell_type": "code",
   "execution_count": 16,
   "id": "403fe234",
   "metadata": {},
   "outputs": [
    {
     "name": "stdout",
     "output_type": "stream",
     "text": [
      "{'_id': ObjectId('6388f6b611abe777e189b34d'), 'name': 'majid', 'age': 20, 'department': 'engineer', 'city': 'karachi'}\n",
      "{'_id': ObjectId('6388f91e11abe777e189b34e'), 'name': 'majid', 'age': 20, 'department': 'engineer', 'city': 'karachi'}\n",
      "{'_id': ObjectId('6388f91e11abe777e189b350'), 'name': 'majid2', 'age': 31, 'department': 'engineer2', 'city': 'karachi2'}\n"
     ]
    }
   ],
   "source": [
    "## Query documents using query operators ($in,$lt,$gt)\n",
    "\n",
    "for record in information.find({'department':{'$in': ['engineer','engineer2']}}):\n",
    "    print(record)"
   ]
  },
  {
   "cell_type": "code",
   "execution_count": 19,
   "id": "3ca044e1",
   "metadata": {},
   "outputs": [
    {
     "name": "stdout",
     "output_type": "stream",
     "text": [
      "{'_id': ObjectId('6388f91e11abe777e189b34f'), 'name': 'majid1', 'age': 30, 'department': 'engineer1', 'city': 'karachi1'}\n"
     ]
    }
   ],
   "source": [
    "## And and query operator\n",
    "\n",
    "for record in information.find({'department':'engineer1','age':{'$lt':35}}):\n",
    "    print(record)"
   ]
  },
  {
   "cell_type": "code",
   "execution_count": 21,
   "id": "e291b9e9",
   "metadata": {},
   "outputs": [
    {
     "name": "stdout",
     "output_type": "stream",
     "text": [
      "{'_id': ObjectId('6388f6b611abe777e189b34d'), 'name': 'majid', 'age': 20, 'department': 'engineer', 'city': 'karachi'}\n",
      "{'_id': ObjectId('6388f91e11abe777e189b34e'), 'name': 'majid', 'age': 20, 'department': 'engineer', 'city': 'karachi'}\n",
      "{'_id': ObjectId('6388f91e11abe777e189b350'), 'name': 'majid2', 'age': 31, 'department': 'engineer2', 'city': 'karachi2'}\n"
     ]
    }
   ],
   "source": [
    "## OR operator\n",
    "\n",
    "for record in information.find({'$or':[{'name':'majid'},{'department':'engineer2'}]}):\n",
    "    print(record)"
   ]
  },
  {
   "cell_type": "code",
   "execution_count": 23,
   "id": "e776f6e1",
   "metadata": {},
   "outputs": [
    {
     "name": "stdout",
     "output_type": "stream",
     "text": [
      "{'_id': ObjectId('6388f91e11abe777e189b350'), 'name': 'majid2', 'age': 31, 'department': 'engineer2', 'city': 'karachi2'}\n"
     ]
    }
   ],
   "source": [
    "## AND operator\n",
    "\n",
    "for record in information.find({'$and':[{'name':'majid2'},{'department':'engineer2'}]}):\n",
    "    print(record)"
   ]
  },
  {
   "cell_type": "code",
   "execution_count": 24,
   "id": "ac705582",
   "metadata": {},
   "outputs": [],
   "source": [
    "collection = mydb.inventory"
   ]
  },
  {
   "cell_type": "code",
   "execution_count": 26,
   "id": "837a4a2e",
   "metadata": {},
   "outputs": [
    {
     "data": {
      "text/plain": [
       "<pymongo.results.InsertManyResult at 0x17fa8778e50>"
      ]
     },
     "execution_count": 26,
     "metadata": {},
     "output_type": "execute_result"
    }
   ],
   "source": [
    "# nested data\n",
    "\n",
    "collection.insert_many([{\n",
    "    'item':'journal', 'qty': 25, 'size' : {'h':14, 'w':21, 'uom':'cm'}, 'status': 'A'\n",
    "},{\n",
    "    'item':'journal', 'qty': 30, 'size' : {'h':8.5, 'w':28, 'uom':'in'}, 'status': 'B'\n",
    "},{\n",
    "    'item':'journal', 'qty': 35, 'size' : {'h':20, 'w':31, 'uom':'in'}, 'status': 'C'\n",
    "},{\n",
    "    'item':'journal', 'qty': 45, 'size' : {'h':16, 'w':51, 'uom':'cm'}, 'status': 'D'\n",
    "}])"
   ]
  },
  {
   "cell_type": "code",
   "execution_count": 28,
   "id": "7893f2f3",
   "metadata": {},
   "outputs": [
    {
     "name": "stdout",
     "output_type": "stream",
     "text": [
      "{'_id': ObjectId('638904d111abe777e189b351'), 'item': 'journal', 'qty': 25, 'size': {'h': 14, 'w': 21, 'uom': 'cm'}, 'status': 'A'}\n"
     ]
    }
   ],
   "source": [
    "for record in collection.find({'size' : {'h':14, 'w':21, 'uom':'cm'}}):\n",
    "    print(record)"
   ]
  },
  {
   "cell_type": "code",
   "execution_count": null,
   "id": "be679362",
   "metadata": {},
   "outputs": [],
   "source": []
  }
 ],
 "metadata": {
  "kernelspec": {
   "display_name": "Python 3 (ipykernel)",
   "language": "python",
   "name": "python3"
  },
  "language_info": {
   "codemirror_mode": {
    "name": "ipython",
    "version": 3
   },
   "file_extension": ".py",
   "mimetype": "text/x-python",
   "name": "python",
   "nbconvert_exporter": "python",
   "pygments_lexer": "ipython3",
   "version": "3.9.13"
  }
 },
 "nbformat": 4,
 "nbformat_minor": 5
}
